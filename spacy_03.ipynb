{
 "cells": [
  {
   "cell_type": "code",
   "execution_count": 1,
   "id": "85301dc9",
   "metadata": {},
   "outputs": [
    {
     "name": "stdout",
     "output_type": "stream",
     "text": [
      "WARNING:tensorflow:From C:\\Anaconda\\lib\\site-packages\\keras\\src\\losses.py:2976: The name tf.losses.sparse_softmax_cross_entropy is deprecated. Please use tf.compat.v1.losses.sparse_softmax_cross_entropy instead.\n",
      "\n"
     ]
    }
   ],
   "source": [
    "import spacy"
   ]
  },
  {
   "cell_type": "code",
   "execution_count": 2,
   "id": "01fbd01b",
   "metadata": {},
   "outputs": [],
   "source": [
    "nlp = spacy.load('en_core_web_sm')"
   ]
  },
  {
   "cell_type": "code",
   "execution_count": 3,
   "id": "9c8d9e33",
   "metadata": {},
   "outputs": [],
   "source": [
    "text = \"Apple is looking at buying U.K. startup for $1 billion\"\n",
    "doc = nlp(text)"
   ]
  },
  {
   "cell_type": "code",
   "execution_count": 4,
   "id": "51af82fc",
   "metadata": {},
   "outputs": [
    {
     "name": "stdout",
     "output_type": "stream",
     "text": [
      "Collecting beautifultable\n",
      "  Downloading beautifultable-1.1.0-py2.py3-none-any.whl (28 kB)\n",
      "Requirement already satisfied: wcwidth in c:\\anaconda\\lib\\site-packages (from beautifultable) (0.2.5)\n",
      "Installing collected packages: beautifultable\n",
      "Successfully installed beautifultable-1.1.0\n"
     ]
    }
   ],
   "source": [
    "!pip install beautifultable"
   ]
  },
  {
   "cell_type": "code",
   "execution_count": 5,
   "id": "0e69e527",
   "metadata": {},
   "outputs": [],
   "source": [
    "from beautifultable import BeautifulTable\n"
   ]
  },
  {
   "cell_type": "code",
   "execution_count": 6,
   "id": "6d013906",
   "metadata": {},
   "outputs": [],
   "source": [
    "table  = BeautifulTable()"
   ]
  },
  {
   "cell_type": "code",
   "execution_count": 7,
   "id": "1f7ce93c",
   "metadata": {},
   "outputs": [],
   "source": [
    "table.columns.header = ['text','POS','TAG','Dep','Shape','is_alpha','is_stop']\n",
    "for token in doc:\n",
    "    table.rows.append([token.text,token.pos_,token.tag_,token.dep_,token.shape_,token.is_alpha,token.is_stop])"
   ]
  },
  {
   "cell_type": "code",
   "execution_count": 8,
   "id": "86a7c00a",
   "metadata": {},
   "outputs": [
    {
     "name": "stdout",
     "output_type": "stream",
     "text": [
      "+---------+-------+-----+----------+-------+----------+---------+\n",
      "|  text   |  POS  | TAG |   Dep    | Shape | is_alpha | is_stop |\n",
      "+---------+-------+-----+----------+-------+----------+---------+\n",
      "|  Apple  | PROPN | NNP |  nsubj   | Xxxxx |    1     |    0    |\n",
      "+---------+-------+-----+----------+-------+----------+---------+\n",
      "|   is    |  AUX  | VBZ |   aux    |  xx   |    1     |    1    |\n",
      "+---------+-------+-----+----------+-------+----------+---------+\n",
      "| looking | VERB  | VBG |   ROOT   | xxxx  |    1     |    0    |\n",
      "+---------+-------+-----+----------+-------+----------+---------+\n",
      "|   at    |  ADP  | IN  |   prep   |  xx   |    1     |    1    |\n",
      "+---------+-------+-----+----------+-------+----------+---------+\n",
      "| buying  | VERB  | VBG |  pcomp   | xxxx  |    1     |    0    |\n",
      "+---------+-------+-----+----------+-------+----------+---------+\n",
      "|  U.K.   | PROPN | NNP |   dobj   | X.X.  |    0     |    0    |\n",
      "+---------+-------+-----+----------+-------+----------+---------+\n",
      "| startup | NOUN  | NN  |   dep    | xxxx  |    1     |    0    |\n",
      "+---------+-------+-----+----------+-------+----------+---------+\n",
      "|   for   |  ADP  | IN  |   prep   |  xxx  |    1     |    1    |\n",
      "+---------+-------+-----+----------+-------+----------+---------+\n",
      "|    $    |  SYM  |  $  | quantmod |   $   |    0     |    0    |\n",
      "+---------+-------+-----+----------+-------+----------+---------+\n",
      "|    1    |  NUM  | CD  | compound |   d   |    0     |    0    |\n",
      "+---------+-------+-----+----------+-------+----------+---------+\n",
      "| billion |  NUM  | CD  |   pobj   | xxxx  |    1     |    0    |\n",
      "+---------+-------+-----+----------+-------+----------+---------+\n"
     ]
    }
   ],
   "source": [
    "print(table)"
   ]
  },
  {
   "cell_type": "code",
   "execution_count": null,
   "id": "dc9c9cbd",
   "metadata": {},
   "outputs": [],
   "source": []
  }
 ],
 "metadata": {
  "kernelspec": {
   "display_name": "Python 3 (ipykernel)",
   "language": "python",
   "name": "python3"
  },
  "language_info": {
   "codemirror_mode": {
    "name": "ipython",
    "version": 3
   },
   "file_extension": ".py",
   "mimetype": "text/x-python",
   "name": "python",
   "nbconvert_exporter": "python",
   "pygments_lexer": "ipython3",
   "version": "3.10.9"
  }
 },
 "nbformat": 4,
 "nbformat_minor": 5
}
