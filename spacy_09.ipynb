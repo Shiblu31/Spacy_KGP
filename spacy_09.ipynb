{
 "cells": [
  {
   "cell_type": "code",
   "execution_count": 4,
   "id": "149576e5",
   "metadata": {},
   "outputs": [
    {
     "name": "stdout",
     "output_type": "stream",
     "text": [
      "Requirement already satisfied: pip in c:\\anaconda\\lib\\site-packages (22.3.1)"
     ]
    },
    {
     "name": "stderr",
     "output_type": "stream",
     "text": [
      "ERROR: To modify pip, please run the following command:\n",
      "C:\\Anaconda\\python.exe -m pip install -U pip setuptools wheel\n"
     ]
    },
    {
     "name": "stdout",
     "output_type": "stream",
     "text": [
      "\n",
      "Collecting pip\n",
      "  Using cached pip-24.0-py3-none-any.whl (2.1 MB)\n",
      "Requirement already satisfied: setuptools in c:\\anaconda\\lib\\site-packages (65.6.3)\n",
      "Collecting setuptools\n",
      "  Using cached setuptools-69.1.0-py3-none-any.whl (819 kB)\n",
      "Requirement already satisfied: wheel in c:\\anaconda\\lib\\site-packages (0.38.4)\n",
      "Collecting wheel\n",
      "  Using cached wheel-0.42.0-py3-none-any.whl (65 kB)\n",
      "Requirement already satisfied: spacy in c:\\anaconda\\lib\\site-packages (3.7.2)\n",
      "Collecting spacy\n",
      "  Using cached spacy-3.7.4-cp310-cp310-win_amd64.whl (12.1 MB)\n",
      "Requirement already satisfied: murmurhash<1.1.0,>=0.28.0 in c:\\anaconda\\lib\\site-packages (from spacy) (1.0.9)\n",
      "Requirement already satisfied: srsly<3.0.0,>=2.4.3 in c:\\anaconda\\lib\\site-packages (from spacy) (2.4.6)\n",
      "Requirement already satisfied: pydantic!=1.8,!=1.8.1,<3.0.0,>=1.7.4 in c:\\anaconda\\lib\\site-packages (from spacy) (1.10.11)\n",
      "Requirement already satisfied: spacy-loggers<2.0.0,>=1.0.0 in c:\\anaconda\\lib\\site-packages (from spacy) (1.0.4)\n",
      "Requirement already satisfied: jinja2 in c:\\anaconda\\lib\\site-packages (from spacy) (3.1.2)\n",
      "Requirement already satisfied: setuptools in c:\\anaconda\\lib\\site-packages (from spacy) (65.6.3)\n",
      "Requirement already satisfied: tqdm<5.0.0,>=4.38.0 in c:\\anaconda\\lib\\site-packages (from spacy) (4.64.1)\n",
      "Requirement already satisfied: preshed<3.1.0,>=3.0.2 in c:\\anaconda\\lib\\site-packages (from spacy) (3.0.8)\n",
      "Requirement already satisfied: typer<0.10.0,>=0.3.0 in c:\\anaconda\\lib\\site-packages (from spacy) (0.9.0)\n",
      "Requirement already satisfied: langcodes<4.0.0,>=3.2.0 in c:\\anaconda\\lib\\site-packages (from spacy) (3.3.0)\n",
      "Requirement already satisfied: numpy>=1.19.0 in c:\\anaconda\\lib\\site-packages (from spacy) (1.23.5)\n",
      "Requirement already satisfied: spacy-legacy<3.1.0,>=3.0.11 in c:\\anaconda\\lib\\site-packages (from spacy) (3.0.12)\n",
      "Requirement already satisfied: thinc<8.3.0,>=8.2.2 in c:\\anaconda\\lib\\site-packages (from spacy) (8.2.3)\n",
      "Requirement already satisfied: smart-open<7.0.0,>=5.2.1 in c:\\anaconda\\lib\\site-packages (from spacy) (5.2.1)\n",
      "Requirement already satisfied: packaging>=20.0 in c:\\anaconda\\lib\\site-packages (from spacy) (22.0)\n",
      "Requirement already satisfied: wasabi<1.2.0,>=0.9.1 in c:\\anaconda\\lib\\site-packages (from spacy) (1.1.2)\n",
      "Requirement already satisfied: cymem<2.1.0,>=2.0.2 in c:\\anaconda\\lib\\site-packages (from spacy) (2.0.7)\n",
      "Requirement already satisfied: catalogue<2.1.0,>=2.0.6 in c:\\anaconda\\lib\\site-packages (from spacy) (2.0.8)\n",
      "Requirement already satisfied: weasel<0.4.0,>=0.1.0 in c:\\anaconda\\lib\\site-packages (from spacy) (0.3.4)\n",
      "Requirement already satisfied: requests<3.0.0,>=2.13.0 in c:\\anaconda\\lib\\site-packages (from spacy) (2.28.1)\n",
      "Requirement already satisfied: typing-extensions>=4.2.0 in c:\\anaconda\\lib\\site-packages (from pydantic!=1.8,!=1.8.1,<3.0.0,>=1.7.4->spacy) (4.4.0)\n",
      "Requirement already satisfied: certifi>=2017.4.17 in c:\\anaconda\\lib\\site-packages (from requests<3.0.0,>=2.13.0->spacy) (2022.12.7)\n",
      "Requirement already satisfied: charset-normalizer<3,>=2 in c:\\anaconda\\lib\\site-packages (from requests<3.0.0,>=2.13.0->spacy) (2.0.4)\n",
      "Requirement already satisfied: idna<4,>=2.5 in c:\\anaconda\\lib\\site-packages (from requests<3.0.0,>=2.13.0->spacy) (3.4)\n",
      "Requirement already satisfied: urllib3<1.27,>=1.21.1 in c:\\anaconda\\lib\\site-packages (from requests<3.0.0,>=2.13.0->spacy) (1.26.14)\n",
      "Requirement already satisfied: blis<0.8.0,>=0.7.8 in c:\\anaconda\\lib\\site-packages (from thinc<8.3.0,>=8.2.2->spacy) (0.7.9)\n",
      "Requirement already satisfied: confection<1.0.0,>=0.0.1 in c:\\anaconda\\lib\\site-packages (from thinc<8.3.0,>=8.2.2->spacy) (0.1.0)\n",
      "Requirement already satisfied: colorama in c:\\anaconda\\lib\\site-packages (from tqdm<5.0.0,>=4.38.0->spacy) (0.4.6)\n",
      "Requirement already satisfied: click<9.0.0,>=7.1.1 in c:\\anaconda\\lib\\site-packages (from typer<0.10.0,>=0.3.0->spacy) (8.0.4)\n",
      "Requirement already satisfied: cloudpathlib<0.17.0,>=0.7.0 in c:\\anaconda\\lib\\site-packages (from weasel<0.4.0,>=0.1.0->spacy) (0.16.0)\n",
      "Requirement already satisfied: MarkupSafe>=2.0 in c:\\anaconda\\lib\\site-packages (from jinja2->spacy) (2.1.1)\n",
      "Installing collected packages: spacy\n",
      "  Attempting uninstall: spacy\n",
      "    Found existing installation: spacy 3.7.2\n",
      "    Uninstalling spacy-3.7.2:\n",
      "      Successfully uninstalled spacy-3.7.2\n"
     ]
    },
    {
     "name": "stderr",
     "output_type": "stream",
     "text": [
      "ERROR: Could not install packages due to an OSError: [WinError 5] Access is denied: 'C:\\\\Anaconda\\\\Lib\\\\site-packages\\\\~-acy\\\\attrs.cp310-win_amd64.pyd'\n",
      "Consider using the `--user` option or check the permissions.\n",
      "\n"
     ]
    },
    {
     "name": "stdout",
     "output_type": "stream",
     "text": [
      "\n",
      "\u001b[38;5;1m[x] No compatible package found for 'en_error_web_sm' (spaCy\n",
      "v3.7.4)\u001b[0m\n",
      "\n"
     ]
    }
   ],
   "source": [
    "!pip install -U pip setuptools wheel\n",
    "!pip install -U spacy\n",
    "!python -m spacy download en_error_web_sm"
   ]
  },
  {
   "cell_type": "code",
   "execution_count": 5,
   "id": "4c1daf84",
   "metadata": {},
   "outputs": [],
   "source": [
    "#Example of token matching\n",
    "import spacy\n",
    "from spacy.matcher import Matcher\n",
    "from spacy.tokens import Span"
   ]
  },
  {
   "cell_type": "code",
   "execution_count": 7,
   "id": "e10e9890",
   "metadata": {},
   "outputs": [],
   "source": [
    "nlp = spacy.load('en_core_web_sm')"
   ]
  },
  {
   "cell_type": "code",
   "execution_count": 12,
   "id": "1ad502ac",
   "metadata": {},
   "outputs": [],
   "source": [
    "text = '''\n",
    "Alice was not a bit hurt, and she jumped up on to her feet in a moment:\n",
    "she looked up, but it was all dark overhead; before her was another\n",
    "long passage, and the White Rabbit was still in sight, hurrying down\n",
    "it. There was not a moment to be lost: away went Alice like the wind,\n",
    "and was just in time to hear it say, as it turned a corner, “Oh my ears\n",
    "and whiskers, how late it’s getting!” She was close behind it when she\n",
    "turned the corner, but the Rabbit was no longer to be seen: she found\n",
    "herself in a long, low hall, which was lit up by a row of lamps hanging\n",
    "from the roof.\n",
    "\n",
    "There were doors all round the hall, but they were all locked; and when\n",
    "Alice had been all the way down one side and up the other, trying every\n",
    "door, she walked sadly down the middle, wondering how she was ever to\n",
    "get out again.\n",
    "\n",
    "Suddenly she came upon a little three-legged table, all made of solid\n",
    "glass; there was nothing on it except a tiny golden key, and Alice’s\n",
    "first thought was that it might belong to one of the doors of the hall;\n",
    "but, alas! either the locks were too large, or the key was too small,\n",
    "but at any rate it would not open any of them. However, on the second\n",
    "time round, she came upon a low curtain she had not noticed before, and\n",
    "behind it was a little door about fifteen inches high: she tried the\n",
    "little golden key in the lock, and to her great delight it fitted!\n",
    "'''"
   ]
  },
  {
   "cell_type": "code",
   "execution_count": 13,
   "id": "a5138424",
   "metadata": {},
   "outputs": [],
   "source": [
    "doc = nlp(text)"
   ]
  },
  {
   "cell_type": "code",
   "execution_count": 14,
   "id": "04e6e2bb",
   "metadata": {},
   "outputs": [],
   "source": [
    "matcher = Matcher(nlp.vocab)"
   ]
  },
  {
   "cell_type": "code",
   "execution_count": 15,
   "id": "bb72f6e2",
   "metadata": {},
   "outputs": [],
   "source": [
    "pattern = [{\"POS\":\"ADJ\"},{\"POS\":\"NOUN\"}]"
   ]
  },
  {
   "cell_type": "code",
   "execution_count": 16,
   "id": "0ad1369c",
   "metadata": {},
   "outputs": [],
   "source": [
    "matcher.add('adj_noun',[pattern])"
   ]
  },
  {
   "cell_type": "code",
   "execution_count": 17,
   "id": "90e7f58d",
   "metadata": {},
   "outputs": [],
   "source": [
    "matches = matcher(doc)"
   ]
  },
  {
   "cell_type": "code",
   "execution_count": 18,
   "id": "663228ed",
   "metadata": {},
   "outputs": [
    {
     "name": "stdout",
     "output_type": "stream",
     "text": [
      "2526562708749592420 adj_noun 37 39 long passage\n",
      "2526562708749592420 adj_noun 132 134 low hall\n",
      "2526562708749592420 adj_noun 214 216 legged table\n",
      "2526562708749592420 adj_noun 232 234 golden key\n",
      "2526562708749592420 adj_noun 239 241 first thought\n",
      "2526562708749592420 adj_noun 300 302 low curtain\n",
      "2526562708749592420 adj_noun 314 316 little door\n",
      "2526562708749592420 adj_noun 326 328 golden key\n",
      "2526562708749592420 adj_noun 335 337 great delight\n"
     ]
    }
   ],
   "source": [
    "for match_id,start,end in matches:\n",
    "    string_id = nlp.vocab.strings[match_id]\n",
    "    span = doc[start:end]\n",
    "    print(match_id,string_id,start,end,span.text)"
   ]
  },
  {
   "cell_type": "code",
   "execution_count": 19,
   "id": "89780ba3",
   "metadata": {},
   "outputs": [],
   "source": [
    "#another\n",
    "matcher = Matcher(nlp.vocab)"
   ]
  },
  {
   "cell_type": "code",
   "execution_count": 20,
   "id": "3539e191",
   "metadata": {},
   "outputs": [],
   "source": [
    "pattern = [{\"LEMMA\":\"begin\"},{\"POS\":\"ADP\"}]\n",
    "matcher.add('lemma_adp',[pattern])\n",
    "matches = matcher(doc)"
   ]
  },
  {
   "cell_type": "code",
   "execution_count": 25,
   "id": "591128d5",
   "metadata": {},
   "outputs": [],
   "source": [
    "for match_id,start,end in matches:\n",
    "    string_id = nlp.vocab.strings[match_id]\n",
    "    span = doc[start:end]\n",
    "    print(match_id,string_id,start,end,span.text)\n"
   ]
  },
  {
   "cell_type": "code",
   "execution_count": null,
   "id": "aed9f540",
   "metadata": {},
   "outputs": [],
   "source": []
  }
 ],
 "metadata": {
  "kernelspec": {
   "display_name": "Python 3 (ipykernel)",
   "language": "python",
   "name": "python3"
  },
  "language_info": {
   "codemirror_mode": {
    "name": "ipython",
    "version": 3
   },
   "file_extension": ".py",
   "mimetype": "text/x-python",
   "name": "python",
   "nbconvert_exporter": "python",
   "pygments_lexer": "ipython3",
   "version": "3.10.9"
  }
 },
 "nbformat": 4,
 "nbformat_minor": 5
}
