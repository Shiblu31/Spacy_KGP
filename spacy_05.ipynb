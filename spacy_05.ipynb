{
 "cells": [
  {
   "cell_type": "code",
   "execution_count": 1,
   "id": "98e86972",
   "metadata": {},
   "outputs": [],
   "source": [
    "para = ''' My name is Joy.I am 10 years old.I am a student. I love to play badminton'''"
   ]
  },
  {
   "cell_type": "code",
   "execution_count": 2,
   "id": "0cd39cab",
   "metadata": {},
   "outputs": [
    {
     "name": "stdout",
     "output_type": "stream",
     "text": [
      "WARNING:tensorflow:From C:\\Anaconda\\lib\\site-packages\\keras\\src\\losses.py:2976: The name tf.losses.sparse_softmax_cross_entropy is deprecated. Please use tf.compat.v1.losses.sparse_softmax_cross_entropy instead.\n",
      "\n"
     ]
    }
   ],
   "source": [
    "import spacy\n",
    "nlp = spacy.load('en_core_web_sm')"
   ]
  },
  {
   "cell_type": "code",
   "execution_count": 3,
   "id": "a64b5e03",
   "metadata": {},
   "outputs": [],
   "source": [
    "doc = nlp(para)"
   ]
  },
  {
   "cell_type": "code",
   "execution_count": 4,
   "id": "ff07ce35",
   "metadata": {},
   "outputs": [
    {
     "data": {
      "text/plain": [
       "[ ,\n",
       " My,\n",
       " name,\n",
       " is,\n",
       " Joy,\n",
       " .,\n",
       " I,\n",
       " am,\n",
       " 10,\n",
       " years,\n",
       " old,\n",
       " .,\n",
       " I,\n",
       " am,\n",
       " a,\n",
       " student,\n",
       " .,\n",
       " I,\n",
       " love,\n",
       " to,\n",
       " play,\n",
       " badminton]"
      ]
     },
     "execution_count": 4,
     "metadata": {},
     "output_type": "execute_result"
    }
   ],
   "source": [
    "list(doc)"
   ]
  },
  {
   "cell_type": "code",
   "execution_count": 7,
   "id": "2565410b",
   "metadata": {},
   "outputs": [],
   "source": [
    " sents = list(doc.sents)"
   ]
  },
  {
   "cell_type": "code",
   "execution_count": 9,
   "id": "2e6d6a58",
   "metadata": {},
   "outputs": [
    {
     "data": {
      "text/plain": [
       "[ ,\n",
       " My name is Joy.,\n",
       " I am 10 years old.,\n",
       " I am a student.,\n",
       " I love to play badminton]"
      ]
     },
     "execution_count": 9,
     "metadata": {},
     "output_type": "execute_result"
    }
   ],
   "source": [
    "list(doc.sents)"
   ]
  },
  {
   "cell_type": "code",
   "execution_count": 10,
   "id": "80b9802d",
   "metadata": {},
   "outputs": [
    {
     "name": "stdout",
     "output_type": "stream",
     "text": [
      " \n",
      "My name is Joy.\n",
      "I am 10 years old.\n",
      "I am a student.\n",
      "I love to play badminton\n"
     ]
    }
   ],
   "source": [
    "for sent in sents:\n",
    "    print(sent)"
   ]
  },
  {
   "cell_type": "code",
   "execution_count": null,
   "id": "be6050e2",
   "metadata": {},
   "outputs": [],
   "source": []
  }
 ],
 "metadata": {
  "kernelspec": {
   "display_name": "Python 3 (ipykernel)",
   "language": "python",
   "name": "python3"
  },
  "language_info": {
   "codemirror_mode": {
    "name": "ipython",
    "version": 3
   },
   "file_extension": ".py",
   "mimetype": "text/x-python",
   "name": "python",
   "nbconvert_exporter": "python",
   "pygments_lexer": "ipython3",
   "version": "3.10.9"
  }
 },
 "nbformat": 4,
 "nbformat_minor": 5
}
