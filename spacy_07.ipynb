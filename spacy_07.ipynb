{
 "cells": [
  {
   "cell_type": "code",
   "execution_count": 1,
   "id": "bf42c71c",
   "metadata": {},
   "outputs": [],
   "source": [
    "#lemmatization\n",
    "# \"play\" is lemma of (playing , plays,played )\n",
    "#\"be\" is lemma of (am,is,are)\n"
   ]
  },
  {
   "cell_type": "code",
   "execution_count": 2,
   "id": "68c01b9b",
   "metadata": {},
   "outputs": [
    {
     "name": "stdout",
     "output_type": "stream",
     "text": [
      "WARNING:tensorflow:From C:\\Anaconda\\lib\\site-packages\\keras\\src\\losses.py:2976: The name tf.losses.sparse_softmax_cross_entropy is deprecated. Please use tf.compat.v1.losses.sparse_softmax_cross_entropy instead.\n",
      "\n"
     ]
    }
   ],
   "source": [
    "import spacy"
   ]
  },
  {
   "cell_type": "code",
   "execution_count": 3,
   "id": "14c20492",
   "metadata": {},
   "outputs": [],
   "source": [
    "nlp = spacy.load('en_core_web_sm')"
   ]
  },
  {
   "cell_type": "code",
   "execution_count": 4,
   "id": "fc1ead5c",
   "metadata": {},
   "outputs": [],
   "source": [
    "text = 'playing played plays play'\n"
   ]
  },
  {
   "cell_type": "code",
   "execution_count": 5,
   "id": "4ef7e2e5",
   "metadata": {},
   "outputs": [],
   "source": [
    "doc = nlp(text)\n"
   ]
  },
  {
   "cell_type": "code",
   "execution_count": 6,
   "id": "fedb9b71",
   "metadata": {},
   "outputs": [
    {
     "name": "stdout",
     "output_type": "stream",
     "text": [
      "playing play\n",
      "played play\n",
      "plays play\n",
      "play play\n"
     ]
    }
   ],
   "source": [
    "for token in doc:\n",
    "    print(token.text,token.lemma_)"
   ]
  },
  {
   "cell_type": "code",
   "execution_count": 7,
   "id": "9c53d5fc",
   "metadata": {},
   "outputs": [],
   "source": [
    "text1 = 'i was playing'"
   ]
  },
  {
   "cell_type": "code",
   "execution_count": 8,
   "id": "de437fab",
   "metadata": {},
   "outputs": [],
   "source": [
    "doc = nlp(text1)"
   ]
  },
  {
   "cell_type": "code",
   "execution_count": 9,
   "id": "0352cefb",
   "metadata": {},
   "outputs": [
    {
     "name": "stdout",
     "output_type": "stream",
     "text": [
      "i I\n",
      "was be\n",
      "playing play\n"
     ]
    }
   ],
   "source": [
    "for token in doc:\n",
    "    print(token.text,token.lemma_)"
   ]
  },
  {
   "cell_type": "code",
   "execution_count": null,
   "id": "d7b3e261",
   "metadata": {},
   "outputs": [],
   "source": []
  }
 ],
 "metadata": {
  "kernelspec": {
   "display_name": "Python 3 (ipykernel)",
   "language": "python",
   "name": "python3"
  },
  "language_info": {
   "codemirror_mode": {
    "name": "ipython",
    "version": 3
   },
   "file_extension": ".py",
   "mimetype": "text/x-python",
   "name": "python",
   "nbconvert_exporter": "python",
   "pygments_lexer": "ipython3",
   "version": "3.10.9"
  }
 },
 "nbformat": 4,
 "nbformat_minor": 5
}
