{
 "cells": [
  {
   "cell_type": "code",
   "execution_count": 1,
   "id": "3cc71ef5",
   "metadata": {},
   "outputs": [
    {
     "name": "stdout",
     "output_type": "stream",
     "text": [
      "Requirement already satisfied: nltk in c:\\anaconda\\lib\\site-packages (3.7)\n",
      "Requirement already satisfied: joblib in c:\\anaconda\\lib\\site-packages (from nltk) (1.1.1)\n",
      "Requirement already satisfied: regex>=2021.8.3 in c:\\anaconda\\lib\\site-packages (from nltk) (2022.7.9)\n",
      "Requirement already satisfied: click in c:\\anaconda\\lib\\site-packages (from nltk) (8.0.4)\n",
      "Requirement already satisfied: tqdm in c:\\anaconda\\lib\\site-packages (from nltk) (4.64.1)\n",
      "Requirement already satisfied: colorama in c:\\anaconda\\lib\\site-packages (from click->nltk) (0.4.6)\n"
     ]
    }
   ],
   "source": [
    "#stemming with NLTK\n",
    "!pip install nltk"
   ]
  },
  {
   "cell_type": "code",
   "execution_count": 2,
   "id": "c14c33b0",
   "metadata": {},
   "outputs": [],
   "source": [
    "from nltk.stem import PorterStemmer\n",
    "from nltk.tokenize import word_tokenize"
   ]
  },
  {
   "cell_type": "code",
   "execution_count": 3,
   "id": "f2a2e0d8",
   "metadata": {},
   "outputs": [],
   "source": [
    "ps = PorterStemmer()"
   ]
  },
  {
   "cell_type": "code",
   "execution_count": 4,
   "id": "6eed8fd5",
   "metadata": {},
   "outputs": [],
   "source": [
    "words = ['changing','changes','changed','study','studying']"
   ]
  },
  {
   "cell_type": "code",
   "execution_count": 5,
   "id": "c160f39a",
   "metadata": {},
   "outputs": [
    {
     "name": "stdout",
     "output_type": "stream",
     "text": [
      "changing :  chang\n",
      "changes :  chang\n",
      "changed :  chang\n",
      "study :  studi\n",
      "studying :  studi\n"
     ]
    }
   ],
   "source": [
    "for word in words:\n",
    "    print(word,\": \",ps.stem(word))"
   ]
  },
  {
   "cell_type": "code",
   "execution_count": 6,
   "id": "d751b196",
   "metadata": {},
   "outputs": [
    {
     "name": "stdout",
     "output_type": "stream",
     "text": [
      "WARNING:tensorflow:From C:\\Anaconda\\lib\\site-packages\\keras\\src\\losses.py:2976: The name tf.losses.sparse_softmax_cross_entropy is deprecated. Please use tf.compat.v1.losses.sparse_softmax_cross_entropy instead.\n",
      "\n"
     ]
    }
   ],
   "source": [
    "import spacy"
   ]
  },
  {
   "cell_type": "code",
   "execution_count": 7,
   "id": "7dd8c58d",
   "metadata": {},
   "outputs": [],
   "source": [
    "nlp = spacy.load('en_core_web_sm')"
   ]
  },
  {
   "cell_type": "code",
   "execution_count": 8,
   "id": "7273fb01",
   "metadata": {},
   "outputs": [
    {
     "name": "stdout",
     "output_type": "stream",
     "text": [
      "changing :  change\n",
      "changes :  change\n",
      "changed :  change\n",
      "study :  study\n",
      "studying :  study\n"
     ]
    }
   ],
   "source": [
    "for word in words:\n",
    "    doc = nlp(word)\n",
    "    for token in doc:\n",
    "        print(word,\": \",token.lemma_)"
   ]
  },
  {
   "cell_type": "markdown",
   "id": "ca8d2187",
   "metadata": {},
   "source": [
    "# word frequency count"
   ]
  },
  {
   "cell_type": "code",
   "execution_count": 9,
   "id": "9a30c910",
   "metadata": {},
   "outputs": [],
   "source": [
    "text = \"Dhaka has a renowned culinary heritage. The city's culture is known for its rickshaws, kacchi biryani, art festivals, and religious diversity. Dhaka's most prominent architectural landmark is the modernist Jatiyo Sangshad Bhaban; while it has a heritage of 2000 buildings from the Mughal and British periods.\""
   ]
  },
  {
   "cell_type": "code",
   "execution_count": 10,
   "id": "e09513b3",
   "metadata": {},
   "outputs": [
    {
     "name": "stdout",
     "output_type": "stream",
     "text": [
      "Dhaka has a renowned culinary heritage. The city's culture is known for its rickshaws, kacchi biryani, art festivals, and religious diversity. Dhaka's most prominent architectural landmark is the modernist Jatiyo Sangshad Bhaban; while it has a heritage of 2000 buildings from the Mughal and British periods.\n"
     ]
    }
   ],
   "source": [
    "print(text)"
   ]
  },
  {
   "cell_type": "code",
   "execution_count": 11,
   "id": "ec7dae47",
   "metadata": {},
   "outputs": [],
   "source": [
    "from collections import Counter"
   ]
  },
  {
   "cell_type": "code",
   "execution_count": 12,
   "id": "870c6169",
   "metadata": {},
   "outputs": [],
   "source": [
    "word_freq = Counter(text.split())"
   ]
  },
  {
   "cell_type": "code",
   "execution_count": 13,
   "id": "56035092",
   "metadata": {},
   "outputs": [
    {
     "data": {
      "text/plain": [
       "Counter({'Dhaka': 1,\n",
       "         'has': 2,\n",
       "         'a': 2,\n",
       "         'renowned': 1,\n",
       "         'culinary': 1,\n",
       "         'heritage.': 1,\n",
       "         'The': 1,\n",
       "         \"city's\": 1,\n",
       "         'culture': 1,\n",
       "         'is': 2,\n",
       "         'known': 1,\n",
       "         'for': 1,\n",
       "         'its': 1,\n",
       "         'rickshaws,': 1,\n",
       "         'kacchi': 1,\n",
       "         'biryani,': 1,\n",
       "         'art': 1,\n",
       "         'festivals,': 1,\n",
       "         'and': 2,\n",
       "         'religious': 1,\n",
       "         'diversity.': 1,\n",
       "         \"Dhaka's\": 1,\n",
       "         'most': 1,\n",
       "         'prominent': 1,\n",
       "         'architectural': 1,\n",
       "         'landmark': 1,\n",
       "         'the': 2,\n",
       "         'modernist': 1,\n",
       "         'Jatiyo': 1,\n",
       "         'Sangshad': 1,\n",
       "         'Bhaban;': 1,\n",
       "         'while': 1,\n",
       "         'it': 1,\n",
       "         'heritage': 1,\n",
       "         'of': 1,\n",
       "         '2000': 1,\n",
       "         'buildings': 1,\n",
       "         'from': 1,\n",
       "         'Mughal': 1,\n",
       "         'British': 1,\n",
       "         'periods.': 1})"
      ]
     },
     "execution_count": 13,
     "metadata": {},
     "output_type": "execute_result"
    }
   ],
   "source": [
    "word_freq"
   ]
  },
  {
   "cell_type": "code",
   "execution_count": 14,
   "id": "31afd00c",
   "metadata": {},
   "outputs": [
    {
     "data": {
      "text/plain": [
       "[('has', 2), ('a', 2), ('is', 2), ('and', 2), ('the', 2)]"
      ]
     },
     "execution_count": 14,
     "metadata": {},
     "output_type": "execute_result"
    }
   ],
   "source": [
    "word_freq.most_common(5)"
   ]
  },
  {
   "cell_type": "code",
   "execution_count": 15,
   "id": "a156e5ce",
   "metadata": {},
   "outputs": [],
   "source": [
    "import spacy"
   ]
  },
  {
   "cell_type": "code",
   "execution_count": 16,
   "id": "563d446d",
   "metadata": {},
   "outputs": [],
   "source": [
    "nlp = spacy.load('en_core_web_sm')"
   ]
  },
  {
   "cell_type": "code",
   "execution_count": 17,
   "id": "2ccafaf2",
   "metadata": {},
   "outputs": [],
   "source": [
    "doc = nlp(text)"
   ]
  },
  {
   "cell_type": "code",
   "execution_count": 18,
   "id": "a7caf389",
   "metadata": {},
   "outputs": [],
   "source": [
    "words = [token.text for token in doc if not token.is_stop and not token.is_punct]"
   ]
  },
  {
   "cell_type": "code",
   "execution_count": 19,
   "id": "daeca7b5",
   "metadata": {},
   "outputs": [],
   "source": [
    "word_freq = Counter(words)"
   ]
  },
  {
   "cell_type": "code",
   "execution_count": 20,
   "id": "dbadff7d",
   "metadata": {},
   "outputs": [
    {
     "data": {
      "text/plain": [
       "[('Dhaka', 2), ('heritage', 2), ('renowned', 1), ('culinary', 1), ('city', 1)]"
      ]
     },
     "execution_count": 20,
     "metadata": {},
     "output_type": "execute_result"
    }
   ],
   "source": [
    "word_freq.most_common(5)"
   ]
  },
  {
   "cell_type": "code",
   "execution_count": 21,
   "id": "abeb7053",
   "metadata": {},
   "outputs": [
    {
     "name": "stdout",
     "output_type": "stream",
     "text": [
      "Requirement already satisfied: pip in c:\\anaconda\\lib\\site-packages (22.3.1)"
     ]
    },
    {
     "name": "stderr",
     "output_type": "stream",
     "text": [
      "ERROR: To modify pip, please run the following command:\n",
      "C:\\Anaconda\\python.exe -m pip install -U pip setuptools wheel\n"
     ]
    },
    {
     "name": "stdout",
     "output_type": "stream",
     "text": [
      "\n",
      "Collecting pip\n",
      "  Using cached pip-24.0-py3-none-any.whl (2.1 MB)\n",
      "Requirement already satisfied: setuptools in c:\\anaconda\\lib\\site-packages (65.6.3)\n",
      "Collecting setuptools\n",
      "  Using cached setuptools-69.1.0-py3-none-any.whl (819 kB)\n",
      "Requirement already satisfied: wheel in c:\\anaconda\\lib\\site-packages (0.38.4)\n",
      "Collecting wheel\n",
      "  Using cached wheel-0.42.0-py3-none-any.whl (65 kB)\n",
      "Requirement already satisfied: spacy in c:\\anaconda\\lib\\site-packages (3.7.2)\n",
      "Collecting spacy\n",
      "  Downloading spacy-3.7.4-cp310-cp310-win_amd64.whl (12.1 MB)\n",
      "     -------------------------------------- 12.1/12.1 MB 371.7 kB/s eta 0:00:00\n",
      "Requirement already satisfied: jinja2 in c:\\anaconda\\lib\\site-packages (from spacy) (3.1.2)\n",
      "Requirement already satisfied: cymem<2.1.0,>=2.0.2 in c:\\anaconda\\lib\\site-packages (from spacy) (2.0.7)\n",
      "Requirement already satisfied: weasel<0.4.0,>=0.1.0 in c:\\anaconda\\lib\\site-packages (from spacy) (0.3.4)\n",
      "Requirement already satisfied: srsly<3.0.0,>=2.4.3 in c:\\anaconda\\lib\\site-packages (from spacy) (2.4.6)\n",
      "Requirement already satisfied: requests<3.0.0,>=2.13.0 in c:\\anaconda\\lib\\site-packages (from spacy) (2.28.1)\n",
      "Requirement already satisfied: packaging>=20.0 in c:\\anaconda\\lib\\site-packages (from spacy) (22.0)\n",
      "Requirement already satisfied: catalogue<2.1.0,>=2.0.6 in c:\\anaconda\\lib\\site-packages (from spacy) (2.0.8)\n",
      "Requirement already satisfied: smart-open<7.0.0,>=5.2.1 in c:\\anaconda\\lib\\site-packages (from spacy) (5.2.1)\n",
      "Requirement already satisfied: pydantic!=1.8,!=1.8.1,<3.0.0,>=1.7.4 in c:\\anaconda\\lib\\site-packages (from spacy) (1.10.11)\n",
      "Requirement already satisfied: numpy>=1.19.0 in c:\\anaconda\\lib\\site-packages (from spacy) (1.23.5)\n",
      "Requirement already satisfied: wasabi<1.2.0,>=0.9.1 in c:\\anaconda\\lib\\site-packages (from spacy) (1.1.2)\n",
      "Requirement already satisfied: tqdm<5.0.0,>=4.38.0 in c:\\anaconda\\lib\\site-packages (from spacy) (4.64.1)\n",
      "Requirement already satisfied: preshed<3.1.0,>=3.0.2 in c:\\anaconda\\lib\\site-packages (from spacy) (3.0.8)\n",
      "Requirement already satisfied: langcodes<4.0.0,>=3.2.0 in c:\\anaconda\\lib\\site-packages (from spacy) (3.3.0)\n",
      "Collecting thinc<8.3.0,>=8.2.2\n",
      "  Downloading thinc-8.2.3-cp310-cp310-win_amd64.whl (1.5 MB)\n",
      "     ---------------------------------------- 1.5/1.5 MB 753.6 kB/s eta 0:00:00\n",
      "Requirement already satisfied: typer<0.10.0,>=0.3.0 in c:\\anaconda\\lib\\site-packages (from spacy) (0.9.0)\n",
      "Requirement already satisfied: setuptools in c:\\anaconda\\lib\\site-packages (from spacy) (65.6.3)\n",
      "Requirement already satisfied: spacy-loggers<2.0.0,>=1.0.0 in c:\\anaconda\\lib\\site-packages (from spacy) (1.0.4)\n",
      "Requirement already satisfied: spacy-legacy<3.1.0,>=3.0.11 in c:\\anaconda\\lib\\site-packages (from spacy) (3.0.12)\n",
      "Requirement already satisfied: murmurhash<1.1.0,>=0.28.0 in c:\\anaconda\\lib\\site-packages (from spacy) (1.0.9)\n",
      "Requirement already satisfied: typing-extensions>=4.2.0 in c:\\anaconda\\lib\\site-packages (from pydantic!=1.8,!=1.8.1,<3.0.0,>=1.7.4->spacy) (4.4.0)\n",
      "Requirement already satisfied: idna<4,>=2.5 in c:\\anaconda\\lib\\site-packages (from requests<3.0.0,>=2.13.0->spacy) (3.4)\n",
      "Requirement already satisfied: charset-normalizer<3,>=2 in c:\\anaconda\\lib\\site-packages (from requests<3.0.0,>=2.13.0->spacy) (2.0.4)\n",
      "Requirement already satisfied: urllib3<1.27,>=1.21.1 in c:\\anaconda\\lib\\site-packages (from requests<3.0.0,>=2.13.0->spacy) (1.26.14)\n",
      "Requirement already satisfied: certifi>=2017.4.17 in c:\\anaconda\\lib\\site-packages (from requests<3.0.0,>=2.13.0->spacy) (2022.12.7)\n",
      "Requirement already satisfied: confection<1.0.0,>=0.0.1 in c:\\anaconda\\lib\\site-packages (from thinc<8.3.0,>=8.2.2->spacy) (0.1.0)\n",
      "Requirement already satisfied: blis<0.8.0,>=0.7.8 in c:\\anaconda\\lib\\site-packages (from thinc<8.3.0,>=8.2.2->spacy) (0.7.9)\n",
      "Requirement already satisfied: colorama in c:\\anaconda\\lib\\site-packages (from tqdm<5.0.0,>=4.38.0->spacy) (0.4.6)\n",
      "Requirement already satisfied: click<9.0.0,>=7.1.1 in c:\\anaconda\\lib\\site-packages (from typer<0.10.0,>=0.3.0->spacy) (8.0.4)\n",
      "Requirement already satisfied: cloudpathlib<0.17.0,>=0.7.0 in c:\\anaconda\\lib\\site-packages (from weasel<0.4.0,>=0.1.0->spacy) (0.16.0)\n",
      "Requirement already satisfied: MarkupSafe>=2.0 in c:\\anaconda\\lib\\site-packages (from jinja2->spacy) (2.1.1)\n",
      "Installing collected packages: thinc, spacy\n",
      "  Attempting uninstall: thinc\n",
      "    Found existing installation: thinc 8.1.10\n",
      "    Uninstalling thinc-8.1.10:\n",
      "      Successfully uninstalled thinc-8.1.10\n"
     ]
    },
    {
     "name": "stderr",
     "output_type": "stream",
     "text": [
      "ERROR: Could not install packages due to an OSError: [WinError 5] Access is denied: 'C:\\\\Anaconda\\\\Lib\\\\site-packages\\\\~hinc\\\\backends\\\\cblas.cp310-win_amd64.pyd'\n",
      "Consider using the `--user` option or check the permissions.\n",
      "\n"
     ]
    },
    {
     "name": "stdout",
     "output_type": "stream",
     "text": [
      "\n",
      "\u001b[38;5;1m[x] No compatible package found for 'en_error_web_sm' (spaCy\n",
      "v3.7.2)\u001b[0m\n",
      "\n"
     ]
    }
   ],
   "source": [
    "!pip install -U pip setuptools wheel\n",
    "!pip install -U spacy\n",
    "!python -m spacy download en_error_web_sm"
   ]
  },
  {
   "cell_type": "code",
   "execution_count": 22,
   "id": "5c3cac5c",
   "metadata": {},
   "outputs": [],
   "source": [
    "import spacy"
   ]
  },
  {
   "cell_type": "code",
   "execution_count": 24,
   "id": "2de337cd",
   "metadata": {},
   "outputs": [],
   "source": [
    "from spacy.matcher import Matcher\n",
    "from spacy.tokens import Span"
   ]
  },
  {
   "cell_type": "code",
   "execution_count": 25,
   "id": "218fa715",
   "metadata": {},
   "outputs": [],
   "source": [
    "nlp = spacy.load('en_core_web_sm')"
   ]
  },
  {
   "cell_type": "code",
   "execution_count": 26,
   "id": "00f8179b",
   "metadata": {},
   "outputs": [],
   "source": [
    "matcher = Matcher(nlp.vocab)"
   ]
  },
  {
   "cell_type": "code",
   "execution_count": 38,
   "id": "03ab19b2",
   "metadata": {},
   "outputs": [],
   "source": [
    "#find Alice and [not verb]\n",
    "pattern_verb = [{\"LOWER\":'alice'}]"
   ]
  },
  {
   "cell_type": "code",
   "execution_count": 39,
   "id": "1b13c133",
   "metadata": {},
   "outputs": [],
   "source": [
    "matcher.add(\"Matching\",[pattern_verb])"
   ]
  },
  {
   "cell_type": "code",
   "execution_count": 40,
   "id": "56ddb995",
   "metadata": {},
   "outputs": [],
   "source": [
    "import requests\n",
    "response = requests.get('https://www.gutenberg.org/files/11/11-0.txt')\n",
    "text = response.text"
   ]
  },
  {
   "cell_type": "code",
   "execution_count": 41,
   "id": "c8378249",
   "metadata": {},
   "outputs": [],
   "source": [
    "text = '''\n",
    "Alice was not a bit hurt, and she jumped up on to her feet in a moment:\n",
    "she looked up, but it was all dark overhead; before her was another\n",
    "long passage, and the White Rabbit was still in sight, hurrying down\n",
    "it. There was not a moment to be lost: away went Alice like the wind,\n",
    "and was just in time to hear it say, as it turned a corner, “Oh my ears\n",
    "and whiskers, how late it’s getting!” She was close behind it when she\n",
    "turned the corner, but the Rabbit was no longer to be seen: she found\n",
    "herself in a long, low hall, which was lit up by a row of lamps hanging\n",
    "from the roof.\n",
    "\n",
    "There were doors all round the hall, but they were all locked; and when\n",
    "Alice had been all the way down one side and up the other, trying every\n",
    "door, she walked sadly down the middle, wondering how she was ever to\n",
    "get out again.\n",
    "\n",
    "Suddenly she came upon a little three-legged table, all made of solid\n",
    "glass; there was nothing on it except a tiny golden key, and Alice’s\n",
    "first thought was that it might belong to one of the doors of the hall;\n",
    "but, alas! either the locks were too large, or the key was too small,\n",
    "but at any rate it would not open any of them. However, on the second\n",
    "time round, she came upon a low curtain she had not noticed before, and\n",
    "behind it was a little door about fifteen inches high: she tried the\n",
    "little golden key in the lock, and to her great delight it fitted!\n",
    "'''"
   ]
  },
  {
   "cell_type": "code",
   "execution_count": 42,
   "id": "416b7bdc",
   "metadata": {},
   "outputs": [],
   "source": [
    "doc = nlp(text)"
   ]
  },
  {
   "cell_type": "code",
   "execution_count": 43,
   "id": "162572f3",
   "metadata": {},
   "outputs": [],
   "source": [
    "matches = matcher(doc)"
   ]
  },
  {
   "cell_type": "code",
   "execution_count": 44,
   "id": "399eecbc",
   "metadata": {},
   "outputs": [
    {
     "name": "stdout",
     "output_type": "stream",
     "text": [
      "6895354335150655416 Matching 1 2 Alice\n",
      "6895354335150655416 Matching 65 66 Alice\n",
      "6895354335150655416 Matching 168 169 Alice\n",
      "6895354335150655416 Matching 236 237 Alice\n"
     ]
    }
   ],
   "source": [
    "for match_id,start,end in matches:\n",
    "    string_id = nlp.vocab.strings[match_id]\n",
    "    span = doc[start:end]\n",
    "    print(match_id,string_id,start,end,span.text)"
   ]
  },
  {
   "cell_type": "code",
   "execution_count": 46,
   "id": "c470d9d1",
   "metadata": {},
   "outputs": [
    {
     "name": "stdout",
     "output_type": "stream",
     "text": [
      "\n",
      " SPACE\n",
      "Alice PROPN\n",
      "was AUX\n",
      "not PART\n",
      "a DET\n",
      "bit NOUN\n",
      "hurt ADJ\n",
      ", PUNCT\n",
      "and CCONJ\n",
      "she PRON\n",
      "jumped VERB\n",
      "up ADP\n",
      "on ADP\n",
      "to ADP\n",
      "her PRON\n",
      "feet NOUN\n",
      "in ADP\n",
      "a DET\n",
      "moment NOUN\n",
      ": PUNCT\n",
      "\n",
      " SPACE\n",
      "she PRON\n",
      "looked VERB\n",
      "up ADP\n",
      ", PUNCT\n",
      "but CCONJ\n",
      "it PRON\n",
      "was AUX\n",
      "all PRON\n",
      "dark ADJ\n",
      "overhead ADV\n",
      "; PUNCT\n",
      "before SCONJ\n",
      "her PRON\n",
      "was AUX\n",
      "another DET\n",
      "\n",
      " SPACE\n",
      "long ADJ\n",
      "passage NOUN\n",
      ", PUNCT\n",
      "and CCONJ\n",
      "the DET\n",
      "White PROPN\n",
      "Rabbit PROPN\n",
      "was AUX\n",
      "still ADV\n",
      "in ADP\n",
      "sight NOUN\n",
      ", PUNCT\n",
      "hurrying VERB\n",
      "down ADP\n",
      "\n",
      " SPACE\n",
      "it PRON\n",
      ". PUNCT\n",
      "There PRON\n",
      "was VERB\n",
      "not PART\n",
      "a DET\n",
      "moment NOUN\n",
      "to PART\n",
      "be AUX\n",
      "lost VERB\n",
      ": PUNCT\n",
      "away ADV\n",
      "went VERB\n",
      "Alice PROPN\n",
      "like ADP\n",
      "the DET\n",
      "wind NOUN\n",
      ", PUNCT\n",
      "\n",
      " SPACE\n",
      "and CCONJ\n",
      "was AUX\n",
      "just ADV\n",
      "in ADP\n",
      "time NOUN\n",
      "to PART\n",
      "hear VERB\n",
      "it PRON\n",
      "say VERB\n",
      ", PUNCT\n",
      "as SCONJ\n",
      "it PRON\n",
      "turned VERB\n",
      "a DET\n",
      "corner NOUN\n",
      ", PUNCT\n",
      "“ PUNCT\n",
      "Oh INTJ\n",
      "my PRON\n",
      "ears NOUN\n",
      "\n",
      " SPACE\n",
      "and CCONJ\n",
      "whiskers NOUN\n",
      ", PUNCT\n",
      "how SCONJ\n",
      "late ADV\n",
      "it PRON\n",
      "’s AUX\n",
      "getting VERB\n",
      "! PUNCT\n",
      "” PUNCT\n",
      "She PRON\n",
      "was AUX\n",
      "close ADJ\n",
      "behind ADP\n",
      "it PRON\n",
      "when SCONJ\n",
      "she PRON\n",
      "\n",
      " SPACE\n",
      "turned VERB\n",
      "the DET\n",
      "corner NOUN\n",
      ", PUNCT\n",
      "but CCONJ\n",
      "the DET\n",
      "Rabbit PROPN\n",
      "was AUX\n",
      "no ADV\n",
      "longer ADV\n",
      "to PART\n",
      "be AUX\n",
      "seen VERB\n",
      ": PUNCT\n",
      "she PRON\n",
      "found VERB\n",
      "\n",
      " SPACE\n",
      "herself PRON\n",
      "in ADP\n",
      "a DET\n",
      "long ADJ\n",
      ", PUNCT\n",
      "low ADJ\n",
      "hall NOUN\n",
      ", PUNCT\n",
      "which PRON\n",
      "was AUX\n",
      "lit VERB\n",
      "up ADP\n",
      "by ADP\n",
      "a DET\n",
      "row NOUN\n",
      "of ADP\n",
      "lamps NOUN\n",
      "hanging VERB\n",
      "\n",
      " SPACE\n",
      "from ADP\n",
      "the DET\n",
      "roof NOUN\n",
      ". PUNCT\n",
      "\n",
      "\n",
      " SPACE\n",
      "There PRON\n",
      "were VERB\n",
      "doors NOUN\n",
      "all PRON\n",
      "round VERB\n",
      "the DET\n",
      "hall NOUN\n",
      ", PUNCT\n",
      "but CCONJ\n",
      "they PRON\n",
      "were AUX\n",
      "all ADV\n",
      "locked VERB\n",
      "; PUNCT\n",
      "and CCONJ\n",
      "when SCONJ\n",
      "\n",
      " SPACE\n",
      "Alice PROPN\n",
      "had AUX\n",
      "been AUX\n",
      "all DET\n",
      "the DET\n",
      "way NOUN\n",
      "down ADP\n",
      "one NUM\n",
      "side NOUN\n",
      "and CCONJ\n",
      "up ADP\n",
      "the DET\n",
      "other ADJ\n",
      ", PUNCT\n",
      "trying VERB\n",
      "every DET\n",
      "\n",
      " SPACE\n",
      "door NOUN\n",
      ", PUNCT\n",
      "she PRON\n",
      "walked VERB\n",
      "sadly ADV\n",
      "down ADP\n",
      "the DET\n",
      "middle NOUN\n",
      ", PUNCT\n",
      "wondering VERB\n",
      "how SCONJ\n",
      "she PRON\n",
      "was AUX\n",
      "ever ADV\n",
      "to PART\n",
      "\n",
      " SPACE\n",
      "get VERB\n",
      "out ADP\n",
      "again ADV\n",
      ". PUNCT\n",
      "\n",
      "\n",
      " SPACE\n",
      "Suddenly ADV\n",
      "she PRON\n",
      "came VERB\n",
      "upon SCONJ\n",
      "a DET\n",
      "little ADJ\n",
      "three NUM\n",
      "- PUNCT\n",
      "legged ADJ\n",
      "table NOUN\n",
      ", PUNCT\n",
      "all PRON\n",
      "made VERB\n",
      "of ADP\n",
      "solid ADJ\n",
      "\n",
      " SPACE\n",
      "glass NOUN\n",
      "; PUNCT\n",
      "there PRON\n",
      "was VERB\n",
      "nothing PRON\n",
      "on ADP\n",
      "it PRON\n",
      "except SCONJ\n",
      "a DET\n",
      "tiny ADJ\n",
      "golden ADJ\n",
      "key NOUN\n",
      ", PUNCT\n",
      "and CCONJ\n",
      "Alice PROPN\n",
      "’s INTJ\n",
      "\n",
      " SPACE\n",
      "first ADJ\n",
      "thought NOUN\n",
      "was AUX\n",
      "that SCONJ\n",
      "it PRON\n",
      "might AUX\n",
      "belong VERB\n",
      "to ADP\n",
      "one NUM\n",
      "of ADP\n",
      "the DET\n",
      "doors NOUN\n",
      "of ADP\n",
      "the DET\n",
      "hall NOUN\n",
      "; PUNCT\n",
      "\n",
      " SPACE\n",
      "but CCONJ\n",
      ", PUNCT\n",
      "alas INTJ\n",
      "! PUNCT\n",
      "either CCONJ\n",
      "the DET\n",
      "locks NOUN\n",
      "were AUX\n",
      "too ADV\n",
      "large ADJ\n",
      ", PUNCT\n",
      "or CCONJ\n",
      "the DET\n",
      "key NOUN\n",
      "was AUX\n",
      "too ADV\n",
      "small ADJ\n",
      ", PUNCT\n",
      "\n",
      " SPACE\n",
      "but CCONJ\n",
      "at ADP\n",
      "any DET\n",
      "rate NOUN\n",
      "it PRON\n",
      "would AUX\n",
      "not PART\n",
      "open VERB\n",
      "any PRON\n",
      "of ADP\n",
      "them PRON\n",
      ". PUNCT\n",
      "However ADV\n",
      ", PUNCT\n",
      "on ADP\n",
      "the DET\n",
      "second ADJ\n",
      "\n",
      " SPACE\n",
      "time NOUN\n",
      "round ADV\n",
      ", PUNCT\n",
      "she PRON\n",
      "came VERB\n",
      "upon SCONJ\n",
      "a DET\n",
      "low ADJ\n",
      "curtain NOUN\n",
      "she PRON\n",
      "had AUX\n",
      "not PART\n",
      "noticed VERB\n",
      "before ADV\n",
      ", PUNCT\n",
      "and CCONJ\n",
      "\n",
      " SPACE\n",
      "behind ADP\n",
      "it PRON\n",
      "was AUX\n",
      "a DET\n",
      "little ADJ\n",
      "door NOUN\n",
      "about ADV\n",
      "fifteen NUM\n",
      "inches NOUN\n",
      "high ADJ\n",
      ": PUNCT\n",
      "she PRON\n",
      "tried VERB\n",
      "the DET\n",
      "\n",
      " SPACE\n",
      "little ADJ\n",
      "golden ADJ\n",
      "key NOUN\n",
      "in ADP\n",
      "the DET\n",
      "lock NOUN\n",
      ", PUNCT\n",
      "and CCONJ\n",
      "to ADP\n",
      "her PRON\n",
      "great ADJ\n",
      "delight NOUN\n",
      "it PRON\n",
      "fitted VERB\n",
      "! PUNCT\n",
      "\n",
      " SPACE\n"
     ]
    }
   ],
   "source": [
    "for token in doc:\n",
    "    print(token.text,token.pos_)"
   ]
  },
  {
   "cell_type": "code",
   "execution_count": 47,
   "id": "c1fab7f0",
   "metadata": {},
   "outputs": [],
   "source": [
    "matcher = Matcher(nlp.vocab)"
   ]
  },
  {
   "cell_type": "code",
   "execution_count": null,
   "id": "9035c5fa",
   "metadata": {},
   "outputs": [],
   "source": []
  }
 ],
 "metadata": {
  "kernelspec": {
   "display_name": "Python 3 (ipykernel)",
   "language": "python",
   "name": "python3"
  },
  "language_info": {
   "codemirror_mode": {
    "name": "ipython",
    "version": 3
   },
   "file_extension": ".py",
   "mimetype": "text/x-python",
   "name": "python",
   "nbconvert_exporter": "python",
   "pygments_lexer": "ipython3",
   "version": "3.10.9"
  }
 },
 "nbformat": 4,
 "nbformat_minor": 5
}
